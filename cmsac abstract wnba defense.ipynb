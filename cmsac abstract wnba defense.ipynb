{
 "cells": [
  {
   "cell_type": "code",
   "execution_count": 25,
   "metadata": {},
   "outputs": [
    {
     "name": "stdout",
     "output_type": "stream",
     "text": [
      "Python: 3.6.5 |Anaconda, Inc.| (default, Apr 29 2018, 16:28:17) \n",
      "[GCC 7.2.0]\n",
      "scipy: 1.1.0\n",
      "numpy: 1.14.3\n",
      "matplotlib: 2.2.2\n",
      "pandas: 0.23.0\n",
      "sklearn: 0.19.1\n"
     ]
    }
   ],
   "source": [
    "# Check the versions of libraries\n",
    " \n",
    "# Python version\n",
    "import sys\n",
    "print('Python: {}'.format(sys.version))\n",
    "# scipy\n",
    "import scipy\n",
    "print('scipy: {}'.format(scipy.__version__))\n",
    "# numpy\n",
    "import numpy as np\n",
    "print('numpy: {}'.format(np.__version__))\n",
    "# matplotlib\n",
    "import matplotlib\n",
    "print('matplotlib: {}'.format(matplotlib.__version__))\n",
    "# pandas\n",
    "import pandas as pd\n",
    "print('pandas: {}'.format(pd.__version__))\n",
    "# scikit-learn\n",
    "import sklearn\n",
    "print('sklearn: {}'.format(sklearn.__version__))\n",
    "\n",
    "import statsmodels.formula.api as smf\n",
    "import statsmodels.stats.api as sms\n",
    "from scipy import stats\n",
    "from statsmodels.compat import lzip\n",
    "import statsmodels\n",
    "import matplotlib.pyplot as plt\n",
    "\n",
    "%matplotlib inline\n",
    "import matplotlib.pyplot as plt\n",
    "\n",
    "from sklearn.ensemble import RandomForestRegressor\n",
    "\n",
    "from sklearn.model_selection import cross_val_score\n",
    "from sklearn import metrics\n",
    "\n",
    "%matplotlib inline\n",
    "import seaborn as sns\n",
    "\n",
    "# Load libraries\n",
    "\n",
    "from pandas.plotting import scatter_matrix\n",
    "from sklearn import model_selection\n",
    "from sklearn.metrics import classification_report\n",
    "from sklearn.metrics import confusion_matrix\n",
    "from sklearn.metrics import accuracy_score\n",
    "from sklearn.linear_model import LogisticRegression\n",
    "from sklearn.tree import DecisionTreeClassifier\n",
    "from sklearn.neighbors import KNeighborsClassifier\n",
    "from sklearn.discriminant_analysis import LinearDiscriminantAnalysis\n",
    "from sklearn.naive_bayes import GaussianNB\n",
    "from sklearn.svm import SVC"
   ]
  },
  {
   "cell_type": "code",
   "execution_count": 11,
   "metadata": {},
   "outputs": [],
   "source": [
    "# read CSV of analytics staff data\n",
    "\n",
    "data = pd.read_csv('defensivedata.csv', header=0)\n",
    "data = data.dropna()"
   ]
  },
  {
   "cell_type": "code",
   "execution_count": 12,
   "metadata": {},
   "outputs": [
    {
     "name": "stdout",
     "output_type": "stream",
     "text": [
      "Index(['Year', 'Player', 'TEAM', 'AGE', 'GP', 'W', 'L', 'MIN', 'DEFRTG',\n",
      "       'DREB', 'DREB%', '%DREB', 'STL', 'STL%', 'BLK', '%BLK',\n",
      "       'OPP PTS\\nOFF TOV ', 'OPP PTS\\n2ND CHANCE ', 'OPP PTS\\nFB ',\n",
      "       'OPP PTS\\nPAINT ', 'DEFWS', 'All Defense', 'DPOY', 'Over5', 'Over4',\n",
      "       'Over3', 'Under3', 'Under100'],\n",
      "      dtype='object')\n"
     ]
    }
   ],
   "source": [
    "# Look at the variable names \n",
    "\n",
    "variablenames = data.keys()\n",
    "print (variablenames) "
   ]
  },
  {
   "cell_type": "code",
   "execution_count": 4,
   "metadata": {},
   "outputs": [
    {
     "data": {
      "text/html": [
       "<div>\n",
       "<style scoped>\n",
       "    .dataframe tbody tr th:only-of-type {\n",
       "        vertical-align: middle;\n",
       "    }\n",
       "\n",
       "    .dataframe tbody tr th {\n",
       "        vertical-align: top;\n",
       "    }\n",
       "\n",
       "    .dataframe thead th {\n",
       "        text-align: right;\n",
       "    }\n",
       "</style>\n",
       "<table border=\"1\" class=\"dataframe\">\n",
       "  <thead>\n",
       "    <tr style=\"text-align: right;\">\n",
       "      <th></th>\n",
       "      <th>Year</th>\n",
       "      <th>AGE</th>\n",
       "      <th>GP</th>\n",
       "      <th>W</th>\n",
       "      <th>L</th>\n",
       "      <th>MIN</th>\n",
       "      <th>DEF RTG</th>\n",
       "      <th>DREB</th>\n",
       "      <th>DREB%</th>\n",
       "      <th>%DREB</th>\n",
       "      <th>...</th>\n",
       "      <th>OPP PTS\n",
       "FB</th>\n",
       "      <th>OPP PTS\n",
       "PAINT</th>\n",
       "      <th>DEF\n",
       "WS</th>\n",
       "      <th>All Defense</th>\n",
       "      <th>DPOY</th>\n",
       "      <th>Over5</th>\n",
       "      <th>Over4</th>\n",
       "      <th>Over3</th>\n",
       "      <th>Under3</th>\n",
       "      <th>Under100</th>\n",
       "    </tr>\n",
       "  </thead>\n",
       "  <tbody>\n",
       "    <tr>\n",
       "      <th>count</th>\n",
       "      <td>216.000000</td>\n",
       "      <td>216.000000</td>\n",
       "      <td>216.000000</td>\n",
       "      <td>216.000000</td>\n",
       "      <td>216.000000</td>\n",
       "      <td>216.000000</td>\n",
       "      <td>216.000000</td>\n",
       "      <td>216.000000</td>\n",
       "      <td>216.000000</td>\n",
       "      <td>216.000000</td>\n",
       "      <td>...</td>\n",
       "      <td>216.000000</td>\n",
       "      <td>216.000000</td>\n",
       "      <td>216.000000</td>\n",
       "      <td>216.000000</td>\n",
       "      <td>216.000000</td>\n",
       "      <td>216.000000</td>\n",
       "      <td>216.000000</td>\n",
       "      <td>216.000000</td>\n",
       "      <td>216.000000</td>\n",
       "      <td>216.000000</td>\n",
       "    </tr>\n",
       "    <tr>\n",
       "      <th>mean</th>\n",
       "      <td>2018.509259</td>\n",
       "      <td>27.657407</td>\n",
       "      <td>30.916667</td>\n",
       "      <td>15.481481</td>\n",
       "      <td>15.435185</td>\n",
       "      <td>699.787037</td>\n",
       "      <td>99.532407</td>\n",
       "      <td>89.722222</td>\n",
       "      <td>12.552778</td>\n",
       "      <td>19.869444</td>\n",
       "      <td>...</td>\n",
       "      <td>146.587963</td>\n",
       "      <td>569.101852</td>\n",
       "      <td>2.584259</td>\n",
       "      <td>0.092593</td>\n",
       "      <td>0.009259</td>\n",
       "      <td>0.069444</td>\n",
       "      <td>0.185185</td>\n",
       "      <td>0.314815</td>\n",
       "      <td>0.648148</td>\n",
       "      <td>0.509259</td>\n",
       "    </tr>\n",
       "    <tr>\n",
       "      <th>std</th>\n",
       "      <td>0.501076</td>\n",
       "      <td>3.872772</td>\n",
       "      <td>3.885872</td>\n",
       "      <td>5.914871</td>\n",
       "      <td>5.620185</td>\n",
       "      <td>238.669824</td>\n",
       "      <td>4.602210</td>\n",
       "      <td>51.960868</td>\n",
       "      <td>5.119683</td>\n",
       "      <td>7.941173</td>\n",
       "      <td>...</td>\n",
       "      <td>60.768119</td>\n",
       "      <td>207.578618</td>\n",
       "      <td>1.409909</td>\n",
       "      <td>0.290534</td>\n",
       "      <td>0.096001</td>\n",
       "      <td>0.254799</td>\n",
       "      <td>0.389350</td>\n",
       "      <td>0.465521</td>\n",
       "      <td>0.478657</td>\n",
       "      <td>0.501076</td>\n",
       "    </tr>\n",
       "    <tr>\n",
       "      <th>min</th>\n",
       "      <td>2018.000000</td>\n",
       "      <td>20.000000</td>\n",
       "      <td>16.000000</td>\n",
       "      <td>3.000000</td>\n",
       "      <td>4.000000</td>\n",
       "      <td>251.000000</td>\n",
       "      <td>87.000000</td>\n",
       "      <td>18.000000</td>\n",
       "      <td>3.600000</td>\n",
       "      <td>5.900000</td>\n",
       "      <td>...</td>\n",
       "      <td>42.000000</td>\n",
       "      <td>158.000000</td>\n",
       "      <td>-0.100000</td>\n",
       "      <td>0.000000</td>\n",
       "      <td>0.000000</td>\n",
       "      <td>0.000000</td>\n",
       "      <td>0.000000</td>\n",
       "      <td>0.000000</td>\n",
       "      <td>0.000000</td>\n",
       "      <td>0.000000</td>\n",
       "    </tr>\n",
       "    <tr>\n",
       "      <th>25%</th>\n",
       "      <td>2018.000000</td>\n",
       "      <td>25.000000</td>\n",
       "      <td>29.000000</td>\n",
       "      <td>11.000000</td>\n",
       "      <td>11.000000</td>\n",
       "      <td>479.500000</td>\n",
       "      <td>96.000000</td>\n",
       "      <td>50.000000</td>\n",
       "      <td>8.300000</td>\n",
       "      <td>13.275000</td>\n",
       "      <td>...</td>\n",
       "      <td>97.750000</td>\n",
       "      <td>401.000000</td>\n",
       "      <td>1.600000</td>\n",
       "      <td>0.000000</td>\n",
       "      <td>0.000000</td>\n",
       "      <td>0.000000</td>\n",
       "      <td>0.000000</td>\n",
       "      <td>0.000000</td>\n",
       "      <td>0.000000</td>\n",
       "      <td>0.000000</td>\n",
       "    </tr>\n",
       "    <tr>\n",
       "      <th>50%</th>\n",
       "      <td>2019.000000</td>\n",
       "      <td>27.000000</td>\n",
       "      <td>32.000000</td>\n",
       "      <td>16.000000</td>\n",
       "      <td>14.000000</td>\n",
       "      <td>688.500000</td>\n",
       "      <td>99.000000</td>\n",
       "      <td>77.500000</td>\n",
       "      <td>11.400000</td>\n",
       "      <td>18.300000</td>\n",
       "      <td>...</td>\n",
       "      <td>145.500000</td>\n",
       "      <td>558.000000</td>\n",
       "      <td>2.300000</td>\n",
       "      <td>0.000000</td>\n",
       "      <td>0.000000</td>\n",
       "      <td>0.000000</td>\n",
       "      <td>0.000000</td>\n",
       "      <td>0.000000</td>\n",
       "      <td>1.000000</td>\n",
       "      <td>1.000000</td>\n",
       "    </tr>\n",
       "    <tr>\n",
       "      <th>75%</th>\n",
       "      <td>2019.000000</td>\n",
       "      <td>30.000000</td>\n",
       "      <td>34.000000</td>\n",
       "      <td>20.000000</td>\n",
       "      <td>19.000000</td>\n",
       "      <td>892.750000</td>\n",
       "      <td>102.250000</td>\n",
       "      <td>116.250000</td>\n",
       "      <td>16.400000</td>\n",
       "      <td>25.725000</td>\n",
       "      <td>...</td>\n",
       "      <td>196.250000</td>\n",
       "      <td>732.500000</td>\n",
       "      <td>3.425000</td>\n",
       "      <td>0.000000</td>\n",
       "      <td>0.000000</td>\n",
       "      <td>0.000000</td>\n",
       "      <td>0.000000</td>\n",
       "      <td>1.000000</td>\n",
       "      <td>1.000000</td>\n",
       "      <td>1.000000</td>\n",
       "    </tr>\n",
       "    <tr>\n",
       "      <th>max</th>\n",
       "      <td>2019.000000</td>\n",
       "      <td>38.000000</td>\n",
       "      <td>35.000000</td>\n",
       "      <td>26.000000</td>\n",
       "      <td>28.000000</td>\n",
       "      <td>1131.000000</td>\n",
       "      <td>112.000000</td>\n",
       "      <td>282.000000</td>\n",
       "      <td>26.800000</td>\n",
       "      <td>40.300000</td>\n",
       "      <td>...</td>\n",
       "      <td>327.000000</td>\n",
       "      <td>984.000000</td>\n",
       "      <td>6.100000</td>\n",
       "      <td>1.000000</td>\n",
       "      <td>1.000000</td>\n",
       "      <td>1.000000</td>\n",
       "      <td>1.000000</td>\n",
       "      <td>1.000000</td>\n",
       "      <td>1.000000</td>\n",
       "      <td>1.000000</td>\n",
       "    </tr>\n",
       "  </tbody>\n",
       "</table>\n",
       "<p>8 rows × 26 columns</p>\n",
       "</div>"
      ],
      "text/plain": [
       "              Year         AGE          GP           W           L  \\\n",
       "count   216.000000  216.000000  216.000000  216.000000  216.000000   \n",
       "mean   2018.509259   27.657407   30.916667   15.481481   15.435185   \n",
       "std       0.501076    3.872772    3.885872    5.914871    5.620185   \n",
       "min    2018.000000   20.000000   16.000000    3.000000    4.000000   \n",
       "25%    2018.000000   25.000000   29.000000   11.000000   11.000000   \n",
       "50%    2019.000000   27.000000   32.000000   16.000000   14.000000   \n",
       "75%    2019.000000   30.000000   34.000000   20.000000   19.000000   \n",
       "max    2019.000000   38.000000   35.000000   26.000000   28.000000   \n",
       "\n",
       "               MIN    DEF RTG         DREB       DREB%       %DREB  \\\n",
       "count   216.000000  216.000000  216.000000  216.000000  216.000000   \n",
       "mean    699.787037   99.532407   89.722222   12.552778   19.869444   \n",
       "std     238.669824    4.602210   51.960868    5.119683    7.941173   \n",
       "min     251.000000   87.000000   18.000000    3.600000    5.900000   \n",
       "25%     479.500000   96.000000   50.000000    8.300000   13.275000   \n",
       "50%     688.500000   99.000000   77.500000   11.400000   18.300000   \n",
       "75%     892.750000  102.250000  116.250000   16.400000   25.725000   \n",
       "max    1131.000000  112.000000  282.000000   26.800000   40.300000   \n",
       "\n",
       "          ...      OPP PTS\\nFB   OPP PTS\\nPAINT     DEF\\nWS   All Defense  \\\n",
       "count     ...        216.000000       216.000000  216.000000   216.000000   \n",
       "mean      ...        146.587963       569.101852    2.584259     0.092593   \n",
       "std       ...         60.768119       207.578618    1.409909     0.290534   \n",
       "min       ...         42.000000       158.000000   -0.100000     0.000000   \n",
       "25%       ...         97.750000       401.000000    1.600000     0.000000   \n",
       "50%       ...        145.500000       558.000000    2.300000     0.000000   \n",
       "75%       ...        196.250000       732.500000    3.425000     0.000000   \n",
       "max       ...        327.000000       984.000000    6.100000     1.000000   \n",
       "\n",
       "             DPOY       Over5       Over4       Over3      Under3    Under100  \n",
       "count  216.000000  216.000000  216.000000  216.000000  216.000000  216.000000  \n",
       "mean     0.009259    0.069444    0.185185    0.314815    0.648148    0.509259  \n",
       "std      0.096001    0.254799    0.389350    0.465521    0.478657    0.501076  \n",
       "min      0.000000    0.000000    0.000000    0.000000    0.000000    0.000000  \n",
       "25%      0.000000    0.000000    0.000000    0.000000    0.000000    0.000000  \n",
       "50%      0.000000    0.000000    0.000000    0.000000    1.000000    1.000000  \n",
       "75%      0.000000    0.000000    0.000000    1.000000    1.000000    1.000000  \n",
       "max      1.000000    1.000000    1.000000    1.000000    1.000000    1.000000  \n",
       "\n",
       "[8 rows x 26 columns]"
      ]
     },
     "execution_count": 4,
     "metadata": {},
     "output_type": "execute_result"
    }
   ],
   "source": [
    "# describe Staff and WIns \n",
    "\n",
    "data.describe()"
   ]
  },
  {
   "cell_type": "code",
   "execution_count": 61,
   "metadata": {},
   "outputs": [],
   "source": [
    "y=data['All Defense']\n",
    "\n",
    "data[\"constant\"] = 1.0\n",
    "\n",
    "x=data[['DEFWS', 'STL', 'BLK', 'constant']]\n"
   ]
  },
  {
   "cell_type": "code",
   "execution_count": 62,
   "metadata": {},
   "outputs": [
    {
     "name": "stdout",
     "output_type": "stream",
     "text": [
      "Optimization terminated successfully.\n",
      "         Current function value: 0.186470\n",
      "         Iterations: 21\n",
      "         Function evaluations: 25\n",
      "         Gradient evaluations: 25\n",
      "                         Results: Logit\n",
      "=================================================================\n",
      "Model:              Logit            Pseudo R-squared: 0.396     \n",
      "Dependent Variable: All Defense      AIC:              88.5553   \n",
      "Date:               2019-10-30 21:51 BIC:              102.0564  \n",
      "No. Observations:   216              Log-Likelihood:   -40.278   \n",
      "Df Model:           3                LL-Null:          -66.635   \n",
      "Df Residuals:       212              LLR p-value:      2.1089e-11\n",
      "Converged:          1.0000           Scale:            1.0000    \n",
      "------------------------------------------------------------------\n",
      "               Coef.   Std.Err.     z     P>|z|    [0.025   0.975]\n",
      "------------------------------------------------------------------\n",
      "DEFWS          0.6868    0.2756   2.4917  0.0127   0.1466   1.2270\n",
      "STL            0.0651    0.0269   2.4208  0.0155   0.0124   0.1178\n",
      "BLK            0.0392    0.0148   2.6456  0.0082   0.0101   0.0682\n",
      "constant      -7.5251    1.1761  -6.3984  0.0000  -9.8302  -5.2200\n",
      "=================================================================\n",
      "\n",
      "              2.5%     97.5%        OR\n",
      "DEFWS     1.157856  3.410922  1.987299\n",
      "STL       1.012463  1.124963  1.067232\n",
      "BLK       1.010201  1.070552  1.039939\n",
      "constant  0.000054  0.005408  0.000539\n"
     ]
    }
   ],
   "source": [
    "import statsmodels.api as sm\n",
    "\n",
    "logit_model=sm.Logit(y,x)\n",
    "result=logit_model.fit(method='bfgs')\n",
    "print(result.summary2())\n",
    "\n",
    "params = result.params\n",
    "conf = result.conf_int()\n",
    "conf['OR'] = params\n",
    "conf.columns = ['2.5%', '97.5%', 'OR']\n",
    "\n",
    "print(np.exp(conf))\n"
   ]
  },
  {
   "cell_type": "code",
   "execution_count": 92,
   "metadata": {},
   "outputs": [],
   "source": [
    "y=data['All Defense']\n",
    "\n",
    "data[\"constant\"] = 1.0\n",
    "\n",
    "x=data[['Over3', 'constant']]"
   ]
  },
  {
   "cell_type": "code",
   "execution_count": 93,
   "metadata": {},
   "outputs": [
    {
     "name": "stdout",
     "output_type": "stream",
     "text": [
      "Optimization terminated successfully.\n",
      "         Current function value: 0.230987\n",
      "         Iterations: 14\n",
      "         Function evaluations: 15\n",
      "         Gradient evaluations: 15\n",
      "                         Results: Logit\n",
      "=================================================================\n",
      "Model:              Logit            Pseudo R-squared: 0.251     \n",
      "Dependent Variable: All Defense      AIC:              103.7865  \n",
      "Date:               2019-10-30 22:41 BIC:              110.5370  \n",
      "No. Observations:   216              Log-Likelihood:   -49.893   \n",
      "Df Model:           1                LL-Null:          -66.635   \n",
      "Df Residuals:       214              LLR p-value:      7.1869e-09\n",
      "Converged:          1.0000           Scale:            1.0000    \n",
      "------------------------------------------------------------------\n",
      "               Coef.   Std.Err.     z     P>|z|    [0.025   0.975]\n",
      "------------------------------------------------------------------\n",
      "Over3          3.2691    0.7632   4.2831  0.0000   1.7731   4.7650\n",
      "constant      -4.2908    0.7120  -6.0260  0.0000  -5.6863  -2.8952\n",
      "=================================================================\n",
      "\n",
      "              2.5%       97.5%         OR\n",
      "Over3     5.889156  117.330621  26.286467\n",
      "constant  0.003392    0.055289   0.013695\n"
     ]
    }
   ],
   "source": [
    "import statsmodels.api as sm\n",
    "\n",
    "logit_model=sm.Logit(y,x)\n",
    "result=logit_model.fit(method='bfgs')\n",
    "print(result.summary2())\n",
    "\n",
    "params = result.params\n",
    "conf = result.conf_int()\n",
    "conf['OR'] = params\n",
    "conf.columns = ['2.5%', '97.5%', 'OR']\n",
    "\n",
    "print(np.exp(conf))"
   ]
  },
  {
   "cell_type": "code",
   "execution_count": 29,
   "metadata": {},
   "outputs": [
    {
     "data": {
      "text/plain": [
       "0    196\n",
       "1     20\n",
       "Name: All Defense, dtype: int64"
      ]
     },
     "execution_count": 29,
     "metadata": {},
     "output_type": "execute_result"
    }
   ],
   "source": [
    "data['All Defense'].value_counts()"
   ]
  },
  {
   "cell_type": "code",
   "execution_count": 31,
   "metadata": {},
   "outputs": [
    {
     "data": {
      "image/png": "[encoded data removed]",
      "text/plain": [
       "<Figure size 432x288 with 1 Axes>"
      ]
     },
     "metadata": {},
     "output_type": "display_data"
    },
    {
     "data": {
      "text/plain": [
       "<Figure size 432x288 with 0 Axes>"
      ]
     },
     "metadata": {},
     "output_type": "display_data"
    }
   ],
   "source": [
    "sns.countplot(x='All Defense', data=data, palette='hls') \n",
    "plt.show() \n",
    "plt.savefig('count_plot')"
   ]
  },
  {
   "cell_type": "code",
   "execution_count": 39,
   "metadata": {},
   "outputs": [
    {
     "data": {
      "image/png": "[encoded data removed]",
      "text/plain": [
       "<Figure size 432x288 with 1 Axes>"
      ]
     },
     "metadata": {},
     "output_type": "display_data"
    }
   ],
   "source": [
    "data.DEFRTG.hist()\n",
    "plt.title('Defensive Rating Histogram')\n",
    "plt.xlabel('Defensive Rating')\n",
    "plt.ylabel('Frequency')\n",
    "plt.savefig('hist_defrtg')"
   ]
  },
  {
   "cell_type": "code",
   "execution_count": 40,
   "metadata": {},
   "outputs": [
    {
     "data": {
      "image/png": "[encoded data removed]",
      "text/plain": [
       "<Figure size 432x288 with 1 Axes>"
      ]
     },
     "metadata": {},
     "output_type": "display_data"
    }
   ],
   "source": [
    "data.DEFWS.hist()\n",
    "plt.title('Defensive Win Shares Histogram')\n",
    "plt.xlabel('Defensive Win Shares')\n",
    "plt.ylabel('Frequency')\n",
    "plt.savefig('hist_defws')"
   ]
  },
  {
   "cell_type": "code",
   "execution_count": 41,
   "metadata": {},
   "outputs": [
    {
     "data": {
      "image/png": "[encoded data removed]",
      "text/plain": [
       "<Figure size 432x288 with 1 Axes>"
      ]
     },
     "metadata": {},
     "output_type": "display_data"
    }
   ],
   "source": [
    "data.STL.hist()\n",
    "plt.title('Steals Histogram')\n",
    "plt.xlabel('Steals')\n",
    "plt.ylabel('Frequency')\n",
    "plt.savefig('hist_steals')"
   ]
  },
  {
   "cell_type": "code",
   "execution_count": 42,
   "metadata": {},
   "outputs": [
    {
     "data": {
      "image/png": "[encoded data removed]",
      "text/plain": [
       "<Figure size 432x288 with 1 Axes>"
      ]
     },
     "metadata": {},
     "output_type": "display_data"
    }
   ],
   "source": [
    "data.DREB.hist()\n",
    "plt.title('Defensive Rebounding Histogram')\n",
    "plt.xlabel('Defensive Rebounds')\n",
    "plt.ylabel('Frequency')\n",
    "plt.savefig('hist_dreb')"
   ]
  },
  {
   "cell_type": "code",
   "execution_count": 43,
   "metadata": {},
   "outputs": [
    {
     "data": {
      "image/png": "[encoded data removed]",
      "text/plain": [
       "<Figure size 432x288 with 1 Axes>"
      ]
     },
     "metadata": {},
     "output_type": "display_data"
    }
   ],
   "source": [
    "data.BLK.hist()\n",
    "plt.title('Blocks Histogram')\n",
    "plt.xlabel('Blocks')\n",
    "plt.ylabel('Frequency')\n",
    "plt.savefig('hist_blocks')"
   ]
  },
  {
   "cell_type": "code",
   "execution_count": 83,
   "metadata": {},
   "outputs": [
    {
     "data": {
      "text/plain": [
       "<matplotlib.axes._subplots.AxesSubplot at 0xa628888c>"
      ]
     },
     "execution_count": 83,
     "metadata": {},
     "output_type": "execute_result"
    },
    {
     "data": {
      "image/png": "[encoded data removed]",
      "text/plain": [
       "<Figure size 432x288 with 1 Axes>"
      ]
     },
     "metadata": {},
     "output_type": "display_data"
    }
   ],
   "source": [
    "data.plot.scatter('All Defense', 'DEFWS')"
   ]
  },
  {
   "cell_type": "code",
   "execution_count": 53,
   "metadata": {},
   "outputs": [
    {
     "data": {
      "text/plain": [
       "0.43845740380638404"
      ]
     },
     "execution_count": 53,
     "metadata": {},
     "output_type": "execute_result"
    }
   ],
   "source": [
    "data['All Defense'].corr(data['DEFWS'])"
   ]
  },
  {
   "cell_type": "code",
   "execution_count": null,
   "metadata": {},
   "outputs": [],
   "source": []
  }
 ],
 "metadata": {
  "kernelspec": {
   "display_name": "Python 3",
   "language": "python",
   "name": "python3"
  },
  "language_info": {
   "codemirror_mode": {
    "name": "ipython",
    "version": 3
   },
   "file_extension": ".py",
   "mimetype": "text/x-python",
   "name": "python",
   "nbconvert_exporter": "python",
   "pygments_lexer": "ipython3",
   "version": "3.6.5"
  }
 },
 "nbformat": 4,
 "nbformat_minor": 2
}
